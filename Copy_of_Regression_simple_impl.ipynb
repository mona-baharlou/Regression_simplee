{
  "nbformat": 4,
  "nbformat_minor": 0,
  "metadata": {
    "colab": {
      "provenance": [],
      "authorship_tag": "ABX9TyNPCZGSt31pq4rekcJXiJ+Z",
      "include_colab_link": true
    },
    "kernelspec": {
      "name": "python3",
      "display_name": "Python 3"
    },
    "language_info": {
      "name": "python"
    }
  },
  "cells": [
    {
      "cell_type": "markdown",
      "metadata": {
        "id": "view-in-github",
        "colab_type": "text"
      },
      "source": [
        "<a href=\"https://colab.research.google.com/github/mona-baharlou/Regression_simplee/blob/main/Copy_of_Regression_simple_impl.ipynb\" target=\"_parent\"><img src=\"https://colab.research.google.com/assets/colab-badge.svg\" alt=\"Open In Colab\"/></a>"
      ]
    },
    {
      "cell_type": "code",
      "execution_count": null,
      "metadata": {
        "colab": {
          "base_uri": "https://localhost:8080/"
        },
        "id": "AclWUCK3fHom",
        "outputId": "3e685177-6fea-4558-f835-9a5e782d022a"
      },
      "outputs": [
        {
          "output_type": "stream",
          "name": "stdout",
          "text": [
            " w = 6.418918918918918\n",
            " b = 81.75675675675677\n",
            "Price for a 100 meter home:  723.6486486486486\n"
          ]
        }
      ],
      "source": [
        "import pandas as pd\n",
        "from sklearn.linear_model import LinearRegression\n",
        "\n",
        "# sample data\n",
        "X = [[50], [80], [120]]   # size\n",
        "y = [400, 600, 850]       # price\n",
        "\n",
        "# model\n",
        "model = LinearRegression()\n",
        "model.fit(X, y)\n",
        "\n",
        "print(\" w =\", model.coef_[0])\n",
        "print(\" b =\", model.intercept_)\n",
        "\n",
        "# predction\n",
        "print(\"Price for a 100 meter home: \", model.predict([[100]])[0])\n"
      ]
    }
  ]
}